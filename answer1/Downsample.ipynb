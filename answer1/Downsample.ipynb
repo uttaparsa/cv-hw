{
 "cells": [
  {
   "cell_type": "code",
   "execution_count": 24,
   "metadata": {},
   "outputs": [],
   "source": [
    "from skimage import io\n",
    "import numpy as np\n",
    "import matplotlib.pyplot as plt\n",
    "from PIL import Image"
   ]
  },
  {
   "cell_type": "code",
   "execution_count": 25,
   "metadata": {},
   "outputs": [
    {
     "name": "stdout",
     "output_type": "stream",
     "text": [
      "(512, 512)\n"
     ]
    }
   ],
   "source": [
    "im1 = io.imread('../Images/1/Goldhill.bmp')\n",
    "print(im1.shape)"
   ]
  },
  {
   "cell_type": "code",
   "execution_count": 26,
   "metadata": {},
   "outputs": [],
   "source": [
    "def downsample_remove_row_and_col(img , factor = 2 ):\n",
    "    return np.copy(img[::factor , ::factor])\n",
    "\n",
    "def downsample_using_averaging(img):\n",
    "    new_height = int(img.shape[0]/2)\n",
    "    new_width = int(img.shape[1]/2)\n",
    "    result = np.zeros([new_height, new_width], dtype=np.uint8)\n",
    "    for i in range(new_height):\n",
    "        for j in range(new_width):\n",
    "            result[i,j] = int((img[i*2,j*2].astype(np.uint16) +\\\n",
    "                               img[i*2,j*2+1].astype(np.uint16) +\\\n",
    "                               img[i*2+1,j*2].astype(np.uint16) +\\\n",
    "                               img[i*2+1,j*2+1].astype(np.uint16))/4)\n",
    "    return result\n"
   ]
  },
  {
   "cell_type": "code",
   "execution_count": 27,
   "metadata": {
    "scrolled": true
   },
   "outputs": [],
   "source": [
    "def upsample_with_replication(img):\n",
    "    return np.repeat(np.repeat(img, 2, axis=1), 2, axis=0)\n",
    "\n",
    "def bilinear_interpolation(x, y, points):\n",
    "\n",
    "    points = sorted(points)    # sort points by x, then by y\n",
    "    (x1, y1, q11), (_x1, y2, q12), (x2, _y1, q21), (_x2, _y2, q22) = points\n",
    "\n",
    "    if x1 != _x1 or x2 != _x2 or y1 != _y1 or y2 != _y2:\n",
    "        raise ValueError('points do not form a rectangle')\n",
    "    if not x1 <= x <= x2 or not y1 <= y <= y2:\n",
    "        raise ValueError('(x, y) not within the rectangle')\n",
    "\n",
    "    return (q11 * (x2 - x) * (y2 - y) +\n",
    "            q21 * (x - x1) * (y2 - y) +\n",
    "            q12 * (x2 - x) * (y - y1) +\n",
    "            q22 * (x - x1) * (y - y1)\n",
    "           ) / ((x2 - x1) * (y2 - y1) + 0.0)\n",
    "\n",
    "def upsample_with_bilinear(img):\n",
    "    def upsample_horizontally(img):\n",
    "        upsampled_horizontally = np.repeat(img, 2, axis=1)\n",
    "        for i in range(0,upsampled_horizontally.shape[0]-1):\n",
    "            for j in range(1,upsampled_horizontally.shape[1]-2,2):\n",
    "                upper_left = (i-1 , j-1 ,upsampled_horizontally[i-1,j-1])\n",
    "                lower_right = (i+1 , j+1 ,upsampled_horizontally[i+1,j+1])\n",
    "                upper_right = (i-1 , j+1 ,upsampled_horizontally[i-1,j+1])\n",
    "                lower_left = (i+1 , j-1 ,upsampled_horizontally[i+1,j-1])\n",
    "\n",
    "                upsampled_horizontally[i,j] = bilinear_interpolation(\n",
    "                i,\n",
    "                j,\n",
    "                [upper_left,lower_right,upper_right,lower_left]\n",
    "                )\n",
    "        return upsampled_horizontally\n",
    "    def upsample_vertically(img):\n",
    "        upsampled_vertically = np.repeat(img, 2, axis=0)\n",
    "        for i in range(1,upsampled_vertically.shape[0]-2 ,2):\n",
    "            for j in range(0,upsampled_vertically.shape[1]-1):\n",
    "                upper = (i-1 , j ,upsampled_vertically[i-1,j-1])\n",
    "                lower_right = (i+1 , j+1 ,upsampled_vertically[i+1,j+1])\n",
    "                upper_right = (i-1 , j+1 ,upsampled_vertically[i-1,j+1])\n",
    "                lower = (i+1 , j ,upsampled_vertically[i+1,j-1])\n",
    "\n",
    "                upsampled_vertically[i,j] = bilinear_interpolation(\n",
    "                i,\n",
    "                j,\n",
    "                [upper,lower_right,upper_right,lower]\n",
    "                )\n",
    "        return upsampled_vertically\n",
    "    \n",
    "    return upsample_vertically(upsample_horizontally(img))"
   ]
  },
  {
   "cell_type": "code",
   "execution_count": 28,
   "metadata": {},
   "outputs": [],
   "source": [
    "downsampled_rmv_col = downsample_remove_row_and_col(im1)\n",
    "img = Image.fromarray(downsampled_rmv_col)\n",
    "img.save('downsampled_remove_row_and_col.png')\n",
    "\n",
    "downsampled_averaging = downsample_using_averaging(im1)\n",
    "img = Image.fromarray(downsampled_averaging)\n",
    "img.save('downsampled_averaging.png')\n",
    "\n",
    "\n",
    "upsampled_replication_rmv = upsample_with_replication(downsampled_rmv_col)\n",
    "img = Image.fromarray(upsampled_replication_rmv)\n",
    "img.save('upsampled_replication_rmv.png')\n",
    "                   \n",
    "                   \n",
    "upsampled_bilinear_rmv = upsample_with_bilinear(downsampled_rmv_col)\n",
    "img = Image.fromarray(upsampled_bilinear_rmv)\n",
    "img.save('upsampled_bilinear_rmv.png')\n",
    "\n",
    "upsampled_replication_avg = upsample_with_replication(downsampled_averaging)\n",
    "img = Image.fromarray(upsampled_replication_avg)\n",
    "img.save('upsampled_replication_avg.png')\n",
    "                   \n",
    "                   \n",
    "upsampled_bilinear_avg = upsample_with_bilinear(downsampled_averaging)\n",
    "img = Image.fromarray(upsampled_bilinear_avg)\n",
    "img.save('upsampled_bilinear_avg.png')"
   ]
  },
  {
   "cell_type": "code",
   "execution_count": 29,
   "metadata": {},
   "outputs": [],
   "source": [
    "mmse_upsampled_replication_rmv = np.square(np.subtract(img,upsampled_replication_rmv)).mean()\n",
    "mmse_upsampled_bilinear_rmv = np.square(np.subtract(img,upsampled_bilinear_rmv)).mean()\n",
    "mmse_upsampled_replication_avg = np.square(np.subtract(img,upsampled_replication_avg)).mean()\n",
    "mmse_upsampled_bilinear_avg = np.square(np.subtract(img,upsampled_bilinear_avg)).mean()"
   ]
  },
  {
   "cell_type": "code",
   "execution_count": 30,
   "metadata": {},
   "outputs": [
    {
     "name": "stdout",
     "output_type": "stream",
     "text": [
      "50.707523345947266\n",
      "22.782073974609375\n",
      "29.194293975830078\n",
      "0.0\n"
     ]
    }
   ],
   "source": [
    "print(mmse_upsampled_replication_rmv)\n",
    "print(mmse_upsampled_bilinear_rmv)\n",
    "print(mmse_upsampled_replication_avg)\n",
    "print(mmse_upsampled_bilinear_avg)"
   ]
  },
  {
   "cell_type": "code",
   "execution_count": 31,
   "metadata": {},
   "outputs": [],
   "source": [
    "def upsample_with_average(img): # this function is not related to HW\n",
    "    upsampled_image = np.zeros([img.shape[0]*2, img.shape[1]*2,img.shape[2]], dtype=np.uint8)\n",
    "\n",
    "    for i in range(0,upsampled_image.shape[0]):\n",
    "        for j in range(0,upsampled_image.shape[1]):\n",
    "            try:\n",
    "                if (i%2==0) and (j%2==0):\n",
    "                    upsampled_image[i,j,:] = np.copy(img[int(i/2),int(j/2)])\n",
    "                elif (i%2==0) and (j%2==1):\n",
    "                    upsampled_image[i,j,:] = np.copy((img[int(i/2),int(j/2),:].astype(np.uint16)+img[int(i/2),int(j/2)+1,:].astype(np.uint16))/2)\n",
    "                elif (i%2==1) and (j%2==0):\n",
    "                    upsampled_image[i,j,:] = (img[int(i/2),int(j/2)].astype(np.uint16)+img[int(i/2)+1,int(j/2)].astype(np.uint16))/2\n",
    "                elif (i%2==1) and (j%2==1):\n",
    "                    upsampled_image[i,j,:] = (img[int(i/2),int(j/2)].astype(np.uint16)+ \\\n",
    "                                              img[int(i/2)+1,int(j/2)+1].astype(np.uint16)+ \\\n",
    "                                              img[int(i/2),int(j/2)+1].astype(np.uint16)+ \\\n",
    "                                              img[int(i/2)+1,int(j/2)].astype(np.uint16))/4\n",
    "            except:\n",
    "                pass\n"
   ]
  }
 ],
 "metadata": {
  "kernelspec": {
   "display_name": "Python 3",
   "language": "python",
   "name": "python3"
  },
  "language_info": {
   "codemirror_mode": {
    "name": "ipython",
    "version": 3
   },
   "file_extension": ".py",
   "mimetype": "text/x-python",
   "name": "python",
   "nbconvert_exporter": "python",
   "pygments_lexer": "ipython3",
   "version": "3.8.3"
  }
 },
 "nbformat": 4,
 "nbformat_minor": 4
}
