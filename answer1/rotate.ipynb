{
 "cells": [
  {
   "cell_type": "code",
   "execution_count": 92,
   "metadata": {},
   "outputs": [],
   "source": [
    "from PIL import Image\n",
    "import numpy as np\n",
    "import cv2\n",
    "import matplotlib.pyplot as plt\n",
    "import math "
   ]
  },
  {
   "cell_type": "code",
   "execution_count": 93,
   "metadata": {},
   "outputs": [],
   "source": [
    "from skimage import io\n",
    "im1 = io.imread('../Images/1/Elaine.bmp')"
   ]
  },
  {
   "cell_type": "code",
   "execution_count": 87,
   "metadata": {},
   "outputs": [],
   "source": [
    "def rotate_image(img,angle):\n",
    "    try:\n",
    "        [height,width,p] = img.shape;\n",
    "    except:\n",
    "        [height,width] = img.shape;\n",
    "    angle_cos = np.cos(angle)\n",
    "    angle_sin = np.sin(angle)\n",
    "    output_dims = int(angle_cos*height + angle_sin*width)\n",
    "\n",
    "    result = np.zeros([output_dims, output_dims], dtype=np.uint8)\n",
    "    for t in range(1,output_dims):\n",
    "        for s in range(1,output_dims):\n",
    "            i = int((t-output_dims/2)*angle_cos+\\\n",
    "                    (s-output_dims/2)* angle_sin+height/2)\n",
    "            j = int(-(t-output_dims/2)*angle_sin+\\\n",
    "                    (s-output_dims/2)*angle_cos+width/2)\n",
    "            try:\n",
    "                if i>0 and j>0 and i<=height and j<=width:   \n",
    "                    result[t,s]=img[i,j]\n",
    "            except Exception as e:# index out of bound might happen for side pixels\n",
    "                pass\n",
    "    return result"
   ]
  },
  {
   "cell_type": "code",
   "execution_count": 88,
   "metadata": {},
   "outputs": [],
   "source": [
    "im2 = rotate_image(im1 , math.radians(80))\n",
    "img = Image.fromarray(im2)\n",
    "img.save('Elaine80_degrees.png', format=\"png\")\n",
    "\n",
    "im3 = rotate_image(im1 , math.radians(30))\n",
    "img = Image.fromarray(im3)\n",
    "img.save('Elaine30_degrees.png', format=\"png\")\n",
    "\n",
    "im4 = rotate_image(im1 , math.radians(45))\n",
    "img = Image.fromarray(im4)\n",
    "img.save('Elaine45_degrees.png', format=\"png\")\n",
    "\n"
   ]
  }
 ],
 "metadata": {
  "kernelspec": {
   "display_name": "Python 3",
   "language": "python",
   "name": "python3"
  },
  "language_info": {
   "codemirror_mode": {
    "name": "ipython",
    "version": 3
   },
   "file_extension": ".py",
   "mimetype": "text/x-python",
   "name": "python",
   "nbconvert_exporter": "python",
   "pygments_lexer": "ipython3",
   "version": "3.8.3"
  }
 },
 "nbformat": 4,
 "nbformat_minor": 4
}
