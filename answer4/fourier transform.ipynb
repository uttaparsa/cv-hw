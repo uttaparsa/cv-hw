{
 "cells": [
  {
   "cell_type": "code",
   "execution_count": null,
   "metadata": {},
   "outputs": [],
   "source": [
    "import cv2\n",
    "import numpy as np\n",
    "from matplotlib import pyplot as plt\n",
    "\n"
   ]
  },
  {
   "cell_type": "code",
   "execution_count": null,
   "metadata": {},
   "outputs": [],
   "source": [
    "\n",
    "def get_dft(img , shift=True):\n",
    "    img_zeropad = np.zeros((img.shape[0]*2 , img.shape[1]*2))\n",
    "    img_zeropad[:img.shape[0] , :img.shape[1]] = img\n",
    "#     print(img_zeropad.shape)\n",
    "    img_fourier = np.fft.fft2(img_zeropad)\n",
    "    if shift:\n",
    "        img_fourier_shift = np.fft.fftshift(img_fourier)\n",
    "    else:\n",
    "        return img_fourier\n",
    "    return img_fourier_shift\n",
    "\n",
    "def apply_filter_in_frequency_domain(inp_img , filtr):\n",
    "    filtr2 = np.zeros(inp_img.shape)\n",
    "    filtr2[:filtr.shape[0] , :filtr.shape[1]] = filtr # zero padding\n",
    "#     print(filtr2)\n",
    "    filter_in_fourier = np.fft.fft2(filtr2) # fft\n",
    "    filter_in_fourier_shift = np.fft.fftshift(filter_in_fourier) # shift\n",
    "    \n",
    "    out_img_fourier = filter_in_fourier_shift * inp_img\n",
    "    \n",
    "    out_img_fourier_shift = np.fft.fftshift(out_img_fourier) #shift\n",
    "    out_img = np.fft.ifft2(out_img_fourier_shift) # inverse fourier transfrom\n",
    "    return out_img.real\n"
   ]
  },
  {
   "cell_type": "code",
   "execution_count": null,
   "metadata": {},
   "outputs": [],
   "source": [
    "im1 = cv2.cvtColor(cv2.imread('../Images/4/Barbara.bmp'), cv2.COLOR_BGR2GRAY)\n",
    "im1_fourier_shift = get_dft(im1)"
   ]
  },
  {
   "cell_type": "code",
   "execution_count": null,
   "metadata": {},
   "outputs": [],
   "source": [
    "def apply_filter_and_save(img , filtr , name):\n",
    "    filter_result = apply_filter_in_frequency_domain(img , filtr)\n",
    "    filter_result_cut = filter_result[:im1.shape[0] ,:im1.shape[1] ]\n",
    "    filter_result_cut *= (255/filter_result_cut.max())\n",
    "    plt.imshow(filter_result_cut , cmap=\"gray\")\n",
    "#     print(filter_result_cut)\n",
    "    cv2.imwrite(f'./fft_results/{name}.jpg' ,filter_result_cut )"
   ]
  },
  {
   "cell_type": "markdown",
   "metadata": {},
   "source": [
    "# 4.1.1"
   ]
  },
  {
   "cell_type": "code",
   "execution_count": null,
   "metadata": {},
   "outputs": [],
   "source": [
    "filtera1 = np.array([[1 , 2, 1]])\n",
    "apply_filter_and_save(im1_fourier_shift , filtera1 , \"filtera1\")\n",
    "\n",
    "filtera2 = np.array([[1] , [2], [1]])\n",
    "apply_filter_and_save(im1_fourier_shift , filtera2 , \"filtera2\")\n",
    "\n",
    "filterb = np.array([[-1 , -1 , -1] , [-1 , 8 , -1] , [-1 , -1 , -1]])\n",
    "apply_filter_and_save(im1_fourier_shift , filterb , \"filterb\")\n",
    "\n",
    "\n",
    "filterc = np.array([[0 , -1 , 0] , [-1 , 5 , -1] , [0 , -1 , 0]])\n",
    "\n",
    "apply_filter_and_save(im1_fourier_shift , filterc , \"filterc\")"
   ]
  },
  {
   "cell_type": "markdown",
   "metadata": {},
   "source": [
    "# 4.1.2"
   ]
  },
  {
   "cell_type": "code",
   "execution_count": null,
   "metadata": {},
   "outputs": [],
   "source": [
    "lena_img = cv2.cvtColor(cv2.imread('../Images/4/Lena.bmp'), cv2.COLOR_BGR2GRAY)\n",
    "f16_img = cv2.cvtColor(cv2.imread('../Images/4/F16.bmp'), cv2.COLOR_BGR2GRAY)\n",
    "baboon_img = cv2.cvtColor(cv2.imread('../Images/4/Baboon.bmp'), cv2.COLOR_BGR2GRAY)"
   ]
  },
  {
   "cell_type": "code",
   "execution_count": null,
   "metadata": {},
   "outputs": [],
   "source": [
    "images = []\n",
    "images.append({\"file\":lena_img , \"name\":\"lena\"})\n",
    "images.append({\"file\":f16_img , \"name\":\"f16\"})\n",
    "images.append({\"file\":baboon_img , \"name\":\"baboon\"})\n",
    "\n",
    "for img in images:\n",
    "    img_dft_magnitude_noshift = np.abs(get_dft(img[\"file\"] , False))\n",
    "    cv2.imwrite(f'./fft_results/{img[\"name\"]}_nolog_noshift.jpg' ,img_dft_magnitude_noshift)\n",
    "    img_log_noshift = (np.log(img_dft_magnitude_noshift)*10).astype(np.uint8)\n",
    "    print(img_log_noshift)\n",
    "    cv2.imwrite(f'./fft_results/{img[\"name\"]}_log_noshift.jpg' ,img_log_noshift)\n",
    "    \n",
    "    img_dft_magnitude = np.abs(get_dft(img[\"file\"] , True))\n",
    "    cv2.imwrite(f'./fft_results/{img[\"name\"]}_nolog.jpg' ,img_dft_magnitude)\n",
    "    img_log = (np.log(img_dft_magnitude)*10).astype(np.uint8)\n",
    "    cv2.imwrite(f'./fft_results/{img[\"name\"]}_log.jpg' ,img_log)\n",
    "#     plt.imshow(baboon_dft_magnitude , cmap=\"gray\")"
   ]
  },
  {
   "cell_type": "markdown",
   "metadata": {},
   "source": [
    "# 4.2.2"
   ]
  },
  {
   "cell_type": "code",
   "execution_count": null,
   "metadata": {},
   "outputs": [],
   "source": [
    "lena_dft = get_dft(lena_img , False)\n",
    "T = 1/4\n",
    "N = 1024\n",
    "np.seterr(divide = 'ignore') \n",
    "filtr_type = \"a\"\n",
    "\n",
    "if filtr_type == \"a\":\n",
    "    lena_dft[int(T*N):int((1-T)*N) ,int(T*N):int((1-T)*N)] = 0 # a\n",
    "else:\n",
    "    lena_dft[0:int(T*N) , 0:int(T*N)] = 0 # b-i\n",
    "    lena_dft[0:int(T*N) , int((1-T)*N):int(N-1)] = 0 # b-ii\n",
    "    lena_dft[int((1-T)*N) :int(N-1) , 0:int(T*N)] = 0 # b-iii\n",
    "    lena_dft[int((1-T)*N):N-1 , int((1-T)*N):N-1] = 0 # b-iv\n",
    "\n",
    "spatial_lena = np.fft.ifft2(lena_dft)\n",
    "\n",
    "spatial_lena = spatial_lena[:lena_img.shape[0] ,:lena_img.shape[1] ]\n",
    "\n",
    "spatial_lena = np.abs(spatial_lena)\n",
    "\n",
    "\n",
    "lena_log_noshift = (np.log(np.abs(lena_dft))*10).astype(np.uint8)\n",
    "plt.imshow(lena_log_noshift , cmap=\"gray\")\n",
    "# plt.imshow(spatial_lena , cmap=\"gray\")\n",
    "cv2.imwrite(f'./fft_results/lenaT{T}-{filtr_type}.jpg' ,spatial_lena)\n",
    "cv2.imwrite(f'./fft_results/lena_magn_T{T}-{filtr_type}.jpg' ,lena_log_noshift)"
   ]
  },
  {
   "cell_type": "code",
   "execution_count": null,
   "metadata": {},
   "outputs": [],
   "source": []
  }
 ],
 "metadata": {
  "kernelspec": {
   "display_name": "Python 3",
   "language": "python",
   "name": "python3"
  },
  "language_info": {
   "codemirror_mode": {
    "name": "ipython",
    "version": 3
   },
   "file_extension": ".py",
   "mimetype": "text/x-python",
   "name": "python",
   "nbconvert_exporter": "python",
   "pygments_lexer": "ipython3",
   "version": "3.8.3"
  }
 },
 "nbformat": 4,
 "nbformat_minor": 4
}
