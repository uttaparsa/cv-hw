{
 "cells": [
  {
   "cell_type": "code",
   "execution_count": 24,
   "metadata": {},
   "outputs": [],
   "source": [
    "import numpy as np\n",
    "import matplotlib.pyplot as plt\n",
    "import cv2\n",
    "import math"
   ]
  },
  {
   "cell_type": "code",
   "execution_count": 32,
   "metadata": {},
   "outputs": [
    {
     "name": "stdout",
     "output_type": "stream",
     "text": [
      "CPU times: user 7.6 s, sys: 365 ms, total: 7.97 s\n",
      "Wall time: 2.01 s\n",
      "K number=32 , mse : 43.42636744181315 , psnr : 31.753268581452385\n",
      "CPU times: user 3.79 s, sys: 264 ms, total: 4.05 s\n",
      "Wall time: 1.03 s\n",
      "K number=16 , mse : 59.9706916809082 , psnr : 30.351413030011273\n",
      "CPU times: user 2.15 s, sys: 156 ms, total: 2.3 s\n",
      "Wall time: 588 ms\n",
      "K number=8 , mse : 78.06670761108398 , psnr : 29.206144970724516\n"
     ]
    }
   ],
   "source": [
    "def get_image_compare_parameters(img1 , img2):\n",
    "    mse = np.mean((img1 - img2)**2)\n",
    "    rmse = math.sqrt(mse)\n",
    "    max_intensity = 255\n",
    "    psnr = 20*np.log10(max_intensity / rmse)\n",
    "    \n",
    "    return mse , psnr\n",
    "\n",
    "def quantize_color_image(img, level = 8 ):\n",
    "    segment_size = 256/level\n",
    "    return ((img/segment_size).astype(np.uint8)*segment_size).astype(np.uint8)\n",
    "\n",
    "\n",
    "\n"
   ]
  },
  {
   "cell_type": "code",
   "execution_count": null,
   "metadata": {},
   "outputs": [],
   "source": []
  }
 ],
 "metadata": {
  "kernelspec": {
   "display_name": "Python 3",
   "language": "python",
   "name": "python3"
  },
  "language_info": {
   "codemirror_mode": {
    "name": "ipython",
    "version": 3
   },
   "file_extension": ".py",
   "mimetype": "text/x-python",
   "name": "python",
   "nbconvert_exporter": "python",
   "pygments_lexer": "ipython3",
   "version": "3.8.3"
  }
 },
 "nbformat": 4,
 "nbformat_minor": 4
}
