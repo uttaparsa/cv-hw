{
 "cells": [
  {
   "cell_type": "code",
   "execution_count": 2,
   "metadata": {},
   "outputs": [],
   "source": [
    "import numpy as np\n",
    "import matplotlib.pyplot as plt\n",
    "import cv2\n",
    "import math"
   ]
  },
  {
   "cell_type": "code",
   "execution_count": 5,
   "metadata": {},
   "outputs": [
    {
     "name": "stdout",
     "output_type": "stream",
     "text": [
      "CPU times: user 14min 40s, sys: 39.7 s, total: 15min 20s\n",
      "Wall time: 3min 51s\n",
      "K number=4096 , mse : 2.8837242126464844 , psnr : 43.531266369470515\n"
     ]
    }
   ],
   "source": [
    "def get_image_compare_parameters(img1 , img2):\n",
    "    mse = np.mean((img1 - img2)**2)\n",
    "    rmse = math.sqrt(mse)\n",
    "    max_intensity = 255\n",
    "    psnr = 20*np.log10(max_intensity / rmse)\n",
    "    \n",
    "    \n",
    "    return mse , psnr\n",
    "img = cv2.imread('../Images/5/Girl.bmp')\n",
    "Z = img.reshape((-1,3))\n",
    "# convert to np.float32\n",
    "Z = np.float32(Z)\n",
    "# define criteria, number of clusters(K) and apply kmeans()\n",
    "criteria = (cv2.TERM_CRITERIA_EPS + cv2.TERM_CRITERIA_MAX_ITER, 10, 1.0)\n",
    "# K_values = [32,16,8]\n",
    "K_values = [4096]\n",
    "for K in K_values:\n",
    "    %time ret,label,center=cv2.kmeans(Z,K,None,criteria,10,cv2.KMEANS_PP_CENTERS)\n",
    "    # Now convert back into uint8, and make original image\n",
    "    center = np.uint8(center)\n",
    "    res = center[label.flatten()]\n",
    "    res2 = res.reshape((img.shape))\n",
    "    cv2.imwrite(f'./kmeans/girl_k{K}_pp.jpg' ,res2 )\n",
    "    mse , psnr = get_image_compare_parameters(img , res2)\n",
    "    print(f\"K number={K} , mse : {mse} , psnr : {psnr}\")\n"
   ]
  },
  {
   "cell_type": "code",
   "execution_count": null,
   "metadata": {},
   "outputs": [],
   "source": []
  }
 ],
 "metadata": {
  "kernelspec": {
   "display_name": "Python 3",
   "language": "python",
   "name": "python3"
  },
  "language_info": {
   "codemirror_mode": {
    "name": "ipython",
    "version": 3
   },
   "file_extension": ".py",
   "mimetype": "text/x-python",
   "name": "python",
   "nbconvert_exporter": "python",
   "pygments_lexer": "ipython3",
   "version": "3.8.3"
  }
 },
 "nbformat": 4,
 "nbformat_minor": 4
}
