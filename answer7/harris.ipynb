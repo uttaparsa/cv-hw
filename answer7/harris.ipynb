{
 "cells": [
  {
   "cell_type": "code",
   "execution_count": 1,
   "metadata": {},
   "outputs": [],
   "source": [
    "import cv2\n",
    "import numpy as np\n"
   ]
  },
  {
   "cell_type": "code",
   "execution_count": 24,
   "metadata": {},
   "outputs": [],
   "source": [
    "def get_harris_corners(input_img, alpha, window_size, threshold , local_maxima=True):\n",
    "    \n",
    "    corners = []\n",
    "    output_img = cv2.cvtColor(input_img.copy(), cv2.COLOR_GRAY2RGB)\n",
    "    r_values = np.zeros(input_img.shape , dtype=float)\n",
    "    offset = int(window_size/2)\n",
    "    \n",
    "    # Calculate image gradient\n",
    "    dy, dx = np.gradient(input_img)\n",
    "    Ixx = dx**2\n",
    "    Ixy = dy*dx\n",
    "    Iyy = dy**2\n",
    "    \n",
    "#     local_neighborhood_size = 6\n",
    "    \n",
    "    for y in range(offset, input_img.shape[0] - offset):\n",
    "        for x in range(offset, input_img.shape[1] - offset):\n",
    "            \n",
    "            # Values of sliding window\n",
    "            start_y = y - offset\n",
    "            end_y = y + offset + 1\n",
    "            start_x = x - offset\n",
    "            end_x = x + offset + 1\n",
    "            \n",
    "\n",
    "            windowIxx = Ixx[start_y : end_y, start_x : end_x]\n",
    "            windowIxy = Ixy[start_y : end_y, start_x : end_x]\n",
    "            windowIyy = Iyy[start_y : end_y, start_x : end_x]\n",
    "            \n",
    "            # Sum of squares of intensities of partial derevatives \n",
    "            Sxx = windowIxx.sum()\n",
    "            Sxy = windowIxy.sum()\n",
    "            Syy = windowIyy.sum()\n",
    "\n",
    "            # Calculate determinant and trace of the matrix\n",
    "            det = (Sxx * Syy) - (Sxy**2)\n",
    "            trace = Sxx + Syy\n",
    "            \n",
    "            # Calculate r for Harris Corner equation\n",
    "            r = det - alpha*(trace**2)\n",
    "\n",
    "            if r > threshold:\n",
    "\n",
    "                \n",
    "                r_values[y,x] = r\n",
    "                if(not local_maxima):\n",
    "                    corners.append([x, y, r])\n",
    "                    output_img[y,x] = (0,0,255)\n",
    "    if(local_maxima):\n",
    "        local_window_size = 4\n",
    "        for y in range(local_window_size, input_img.shape[0] - local_window_size):\n",
    "            for x in range(local_window_size, input_img.shape[1] - local_window_size):\n",
    "                local_window =  r_values[y-local_window_size:y+local_window_size,x-local_window_size:x+local_window_size]\n",
    "                if((r_values[y,x] >=local_window.max()) and r_values[y,x] != 0):\n",
    "                    corners.append([x, y, r_values[y,x]])\n",
    "                    output_img[y-2:y+2,x-2:x+2] = (0,0,255)\n",
    "\n",
    "\n",
    "\n",
    "    return corners, output_img\n",
    "\n"
   ]
  },
  {
   "cell_type": "code",
   "execution_count": 25,
   "metadata": {},
   "outputs": [
    {
     "name": "stdout",
     "output_type": "stream",
     "text": [
      "3622\n"
     ]
    },
    {
     "data": {
      "text/plain": [
       "True"
      ]
     },
     "execution_count": 25,
     "metadata": {},
     "output_type": "execute_result"
    }
   ],
   "source": [
    "alpha = 0.04\n",
    "window_size = 5\n",
    "threshold = 100000000.00\n",
    "\n",
    "input_img = cv2.imread('../Images/7/Building.jpg', 0)\n",
    "harris_corner_list, corner_img  = get_harris_corners(input_img, alpha, window_size, threshold , True)\n",
    "print(len(harris_corner_list))\n",
    "\n",
    "\n",
    "# cv2.imshow('Detected Corners', corner_img)\n",
    "# cv2.waitKey(0)\n",
    "\n",
    "\n",
    "cv2.imwrite(\"corners_img_local.png\", corner_img)\n"
   ]
  },
  {
   "cell_type": "code",
   "execution_count": 16,
   "metadata": {},
   "outputs": [
    {
     "name": "stdout",
     "output_type": "stream",
     "text": [
      "206670\n"
     ]
    },
    {
     "data": {
      "text/plain": [
       "True"
      ]
     },
     "execution_count": 16,
     "metadata": {},
     "output_type": "execute_result"
    }
   ],
   "source": [
    "alpha = 0.04\n",
    "window_size = 5\n",
    "threshold = 100000000.00\n",
    "\n",
    "input_img = cv2.imread('../Images/7/Building.jpg', 0)\n",
    "harris_corner_list, corner_img  = get_harris_corners(input_img, alpha, window_size, threshold , False)\n",
    "print(len(harris_corner_list))\n",
    "\n",
    "\n",
    "# cv2.imshow('Detected Corners', corner_img)\n",
    "# cv2.waitKey(0)\n",
    "\n",
    "\n",
    "cv2.imwrite(\"corners_img.png\", corner_img)"
   ]
  },
  {
   "cell_type": "code",
   "execution_count": null,
   "metadata": {},
   "outputs": [],
   "source": [
    "corner_np_array = np.float32(harris_corner_list)"
   ]
  },
  {
   "cell_type": "code",
   "execution_count": 12,
   "metadata": {},
   "outputs": [
    {
     "name": "stdout",
     "output_type": "stream",
     "text": [
      "(1384, 2000)\n"
     ]
    }
   ],
   "source": [
    "print(input_img.shape)"
   ]
  },
  {
   "cell_type": "code",
   "execution_count": 18,
   "metadata": {},
   "outputs": [
    {
     "name": "stdout",
     "output_type": "stream",
     "text": [
      "[[0.00000000e+00 0.00000000e+00 0.00000000e+00 0.00000000e+00\n",
      "  0.00000000e+00 0.00000000e+00 0.00000000e+00 0.00000000e+00\n",
      "  0.00000000e+00 0.00000000e+00]\n",
      " [0.00000000e+00 0.00000000e+00 0.00000000e+00 0.00000000e+00\n",
      "  0.00000000e+00 0.00000000e+00 0.00000000e+00 0.00000000e+00\n",
      "  0.00000000e+00 0.00000000e+00]\n",
      " [0.00000000e+00 0.00000000e+00 0.00000000e+00 0.00000000e+00\n",
      "  0.00000000e+00 0.00000000e+00 0.00000000e+00 0.00000000e+00\n",
      "  0.00000000e+00 0.00000000e+00]\n",
      " [1.36003706e+07 1.36003706e+07 1.36003706e+07 1.13312441e+07\n",
      "  0.00000000e+00 0.00000000e+00 0.00000000e+00 0.00000000e+00\n",
      "  0.00000000e+00 0.00000000e+00]\n",
      " [2.05153417e+07 2.05153417e+07 2.05153417e+07 1.71526911e+07\n",
      "  1.43482801e+07 0.00000000e+00 0.00000000e+00 0.00000000e+00\n",
      "  0.00000000e+00 0.00000000e+00]\n",
      " [3.08917750e+07 3.08917750e+07 3.08917750e+07 2.94396462e+07\n",
      "  2.81604624e+07 1.63161516e+07 1.31095231e+07 0.00000000e+00\n",
      "  0.00000000e+00 0.00000000e+00]\n",
      " [3.10778632e+07 3.10778632e+07 3.10778632e+07 2.98450520e+07\n",
      "  2.87164381e+07 1.64770737e+07 1.31095231e+07 0.00000000e+00\n",
      "  0.00000000e+00 0.00000000e+00]\n",
      " [4.42442469e+07 4.42442469e+07 4.42442469e+07 4.42442469e+07\n",
      "  4.12984423e+07 2.58367169e+07 1.62815883e+07 0.00000000e+00\n",
      "  0.00000000e+00 0.00000000e+00]\n",
      " [4.46639159e+07 4.46639159e+07 4.46639159e+07 4.46639159e+07\n",
      "  4.46639159e+07 4.16517763e+07 3.11417326e+07 1.39377506e+07\n",
      "  1.18816774e+07 1.24341783e+07]\n",
      " [1.05633214e+08 1.05633214e+08 1.05633214e+08 1.02330611e+08\n",
      "  1.25625705e+08 1.25625705e+08 1.25625705e+08 1.25625705e+08\n",
      "  1.25625705e+08 1.00744347e+08]]\n",
      "(1380, 1996)\n"
     ]
    }
   ],
   "source": [
    "neighborhood_size = 5\n",
    "sub_shape = (neighborhood_size, neighborhood_size)\n",
    "view_shape = tuple(np.subtract(r_values.shape, sub_shape) + 1) + sub_shape\n",
    "strides = r_values.strides + r_values.strides\n",
    "\n",
    "sub_matrices = np.lib.stride_tricks.as_strided(r_values, view_shape, strides)\n",
    "maximas = np.max(sub_matrices, axis=(2, 3))\n",
    "print(maximas[0:10,0:10])\n",
    "print(maximas.shape)"
   ]
  },
  {
   "cell_type": "code",
   "execution_count": null,
   "metadata": {},
   "outputs": [],
   "source": []
  }
 ],
 "metadata": {
  "kernelspec": {
   "display_name": "Python 3",
   "language": "python",
   "name": "python3"
  },
  "language_info": {
   "codemirror_mode": {
    "name": "ipython",
    "version": 3
   },
   "file_extension": ".py",
   "mimetype": "text/x-python",
   "name": "python",
   "nbconvert_exporter": "python",
   "pygments_lexer": "ipython3",
   "version": "3.8.3"
  }
 },
 "nbformat": 4,
 "nbformat_minor": 4
}
